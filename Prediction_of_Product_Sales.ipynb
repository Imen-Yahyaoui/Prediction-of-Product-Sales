{
  "nbformat": 4,
  "nbformat_minor": 0,
  "metadata": {
    "colab": {
      "provenance": [],
      "authorship_tag": "ABX9TyMWKc/Y0Td2VrOhL5PDR+Tw",
      "include_colab_link": true
    },
    "kernelspec": {
      "name": "python3",
      "display_name": "Python 3"
    },
    "language_info": {
      "name": "python"
    }
  },
  "cells": [
    {
      "cell_type": "markdown",
      "metadata": {
        "id": "view-in-github",
        "colab_type": "text"
      },
      "source": [
        "<a href=\"https://colab.research.google.com/github/Imen-Yahyaoui/Prediction-of-Product-Sales/blob/main/Prediction_of_Product_Sales.ipynb\" target=\"_parent\"><img src=\"https://colab.research.google.com/assets/colab-badge.svg\" alt=\"Open In Colab\"/></a>"
      ]
    },
    {
      "cell_type": "markdown",
      "source": [
        "# Prediction of Product Sales\n",
        "  \n",
        "\n",
        "\n"
      ],
      "metadata": {
        "id": "P2yuKiFUHQ18"
      }
    },
    {
      "cell_type": "markdown",
      "source": [
        "- Author: Imen Yahyaoui"
      ],
      "metadata": {
        "id": "8TgjYAbjLY0-"
      }
    },
    {
      "cell_type": "markdown",
      "source": [
        "## Project Overview\n"
      ],
      "metadata": {
        "id": "WKGJz9o_H49J"
      }
    },
    {
      "cell_type": "markdown",
      "source": [],
      "metadata": {
        "id": "QJVrThF4L5QZ"
      }
    },
    {
      "cell_type": "markdown",
      "source": [
        "## Load and Inspect Data\n"
      ],
      "metadata": {
        "id": "yDMI_ET5Jo8K"
      }
    },
    {
      "cell_type": "code",
      "source": [],
      "metadata": {
        "id": "paEQATLBL7WK"
      },
      "execution_count": null,
      "outputs": []
    },
    {
      "cell_type": "markdown",
      "source": [
        "## Clean Data\n",
        "\n"
      ],
      "metadata": {
        "id": "byL5eQAeHyLk"
      }
    },
    {
      "cell_type": "code",
      "source": [],
      "metadata": {
        "id": "Q_WPpu2eL9K-"
      },
      "execution_count": null,
      "outputs": []
    },
    {
      "cell_type": "markdown",
      "source": [
        "## Exploratory Data Analysis\n"
      ],
      "metadata": {
        "id": "5LtI6WiIJwAk"
      }
    },
    {
      "cell_type": "code",
      "source": [],
      "metadata": {
        "id": "DjFWFbNtL9qA"
      },
      "execution_count": null,
      "outputs": []
    },
    {
      "cell_type": "markdown",
      "source": [
        "## Feature Inspection"
      ],
      "metadata": {
        "id": "Rpkcx5k4Jxnz"
      }
    },
    {
      "cell_type": "code",
      "source": [],
      "metadata": {
        "id": "lEWGc4byL-nn"
      },
      "execution_count": null,
      "outputs": []
    }
  ]
}